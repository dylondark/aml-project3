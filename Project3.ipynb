{
 "cells": [
  {
   "cell_type": "code",
   "execution_count": 12,
   "id": "be1b8ed3",
   "metadata": {},
   "outputs": [
    {
     "ename": "AttributeError",
     "evalue": "'numpy.int64' object has no attribute 'sample'",
     "output_type": "error",
     "traceback": [
      "\u001b[1;31m---------------------------------------------------------------------------\u001b[0m",
      "\u001b[1;31mAttributeError\u001b[0m                            Traceback (most recent call last)",
      "Cell \u001b[1;32mIn[12], line 17\u001b[0m\n\u001b[0;32m     15\u001b[0m \u001b[38;5;66;03m# normalize the totals for each type to reduce overfitting or other logic errors\u001b[39;00m\n\u001b[0;32m     16\u001b[0m min_count \u001b[38;5;241m=\u001b[39m \u001b[38;5;28mmin\u001b[39m(total_eclipse, annular_eclipse, hybrid_eclipse, partial_eclipse, partial_eclipse_of_sun )\n\u001b[1;32m---> 17\u001b[0m sample_total_eclipse \u001b[38;5;241m=\u001b[39m total_eclipse\u001b[38;5;241m.\u001b[39msample(n \u001b[38;5;241m=\u001b[39m min_count, replace \u001b[38;5;241m=\u001b[39m \u001b[38;5;28;01mTrue\u001b[39;00m)\n\u001b[0;32m     20\u001b[0m \u001b[38;5;28mprint\u001b[39m(total_eclipse, annular_eclipse, hybrid_eclipse, partial_eclipse, partial_eclipse_of_sun)\n\u001b[0;32m     21\u001b[0m \u001b[38;5;28mprint\u001b[39m(min_count)\n",
      "\u001b[1;31mAttributeError\u001b[0m: 'numpy.int64' object has no attribute 'sample'"
     ]
    }
   ],
   "source": [
    "#AML project 3, by Luke Gegick, Dylan Miller, Jackson Dockerty\n",
    "\n",
    "import pandas as pd\n",
    "\n",
    "# read in the .csv file\n",
    "eclipse_df = pd.read_csv(\"Eclipse_Pred\\Eclipse_Train.csv\")\n",
    "\n",
    "# get the numbers of the types of eclipses\n",
    "total_eclipse = eclipse_df['Eclipse Type'].value_counts()['T']\n",
    "annular_eclipse = eclipse_df['Eclipse Type'].value_counts()['A']\n",
    "hybrid_eclipse = eclipse_df['Eclipse Type'].value_counts()['H']\n",
    "partial_eclipse = eclipse_df['Eclipse Type'].value_counts()['P']\n",
    "partial_eclipse_of_sun = eclipse_df['Eclipse Type'].value_counts()['Pb']\n",
    "\n",
    "# normalize the totals for each type to reduce overfitting or other logic errors\n",
    "min_count = min(total_eclipse, annular_eclipse, hybrid_eclipse, partial_eclipse, partial_eclipse_of_sun )\n",
    "sample_total_eclipse = total_eclipse.sample(n = min_count, replace = True)\n",
    "\n",
    "\n",
    "print(total_eclipse, annular_eclipse, hybrid_eclipse, partial_eclipse, partial_eclipse_of_sun)\n",
    "print(min_count)\n",
    "print(len(sample_total_eclipse))"
   ]
  },
  {
   "cell_type": "code",
   "execution_count": null,
   "id": "ea2f6725",
   "metadata": {},
   "outputs": [],
   "source": []
  }
 ],
 "metadata": {
  "kernelspec": {
   "display_name": "Python 3 (ipykernel)",
   "language": "python",
   "name": "python3"
  },
  "language_info": {
   "codemirror_mode": {
    "name": "ipython",
    "version": 3
   },
   "file_extension": ".py",
   "mimetype": "text/x-python",
   "name": "python",
   "nbconvert_exporter": "python",
   "pygments_lexer": "ipython3",
   "version": "3.11.5"
  }
 },
 "nbformat": 4,
 "nbformat_minor": 5
}
