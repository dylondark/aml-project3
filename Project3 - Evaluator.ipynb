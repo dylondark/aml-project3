{
 "cells": [
  {
   "cell_type": "code",
   "execution_count": 49,
   "id": "b07b1e8f",
   "metadata": {},
   "outputs": [
    {
     "name": "stdout",
     "output_type": "stream",
     "text": [
      "Test Accuracy based on True Labels: 74.40%\n"
     ]
    }
   ],
   "source": [
    "# Show the Accuracy of the Project-3 predictions\n",
    "\n",
    "import numpy as np\n",
    "import pandas as pd\n",
    "\n",
    "# Read the true eclipse labels for the testing data\n",
    "true_labels_df = pd.read_csv(\"Eclipse_Pred\\True_Eclipse_Test_Label.csv\", index_col=\"Catalog Number\")\n",
    "\n",
    "# Read the predicted eclipse types from Project3_pred.csv\n",
    "predicted_labels_df = pd.read_csv(\"Project3_pred.csv\", index_col=\"Catalog Number\")\n",
    "\n",
    "# Ensure that both DataFrames have the same index\n",
    "true_labels_df.index = true_labels_df.index.astype(str)\n",
    "predicted_labels_df.index = predicted_labels_df.index.astype(str)\n",
    "\n",
    "# Merge the DataFrames on the index (Catalog Number)\n",
    "merged_df = pd.merge(true_labels_df, predicted_labels_df, left_index=True, right_index=True)\n",
    "\n",
    "# Calculate test accuracy by comparing predicted and true labels\n",
    "test_accuracy = np.mean(merged_df[\"Eclipse Type\"] == merged_df[\"Pred_Eclipse_Type\"]) * 100\n",
    "print(\"Test Accuracy based on True Labels: {:.2f}%\".format(test_accuracy))\n"
   ]
  },
  {
   "cell_type": "code",
   "execution_count": 52,
   "id": "e4772c58",
   "metadata": {},
   "outputs": [
    {
     "name": "stdout",
     "output_type": "stream",
     "text": [
      "Test Accuracy based on True Labels: 67.14%\n"
     ]
    }
   ],
   "source": [
    "# Show the accuracy of Project-3 Mapped\n",
    "\n",
    "import numpy as np\n",
    "import pandas as pd\n",
    "\n",
    "# Read the true eclipse labels for the testing data\n",
    "true_labels_df = pd.read_csv(\"Eclipse_Pred\\True_Mapped_Eclipse_Test_Label.csv\", index_col=\"Catalog Number\")\n",
    "\n",
    "# Read the predicted eclipse types from Project3_pred.csv\n",
    "predicted_labels_df = pd.read_csv(\"Project3_pred.csv\", index_col=\"Catalog Number\")\n",
    "\n",
    "# Ensure that both DataFrames have the same index\n",
    "true_labels_df.index = true_labels_df.index.astype(str)\n",
    "predicted_labels_df.index = predicted_labels_df.index.astype(str)\n",
    "\n",
    "# Merge the DataFrames on the index (Catalog Number)\n",
    "merged_df = pd.merge(true_labels_df, predicted_labels_df, left_index=True, right_index=True)\n",
    "\n",
    "# Calculate test accuracy by comparing predicted and true labels\n",
    "test_accuracy = np.mean(merged_df[\"Eclipse Type\"] == merged_df[\"Pred_Eclipse_Type\"]) * 100\n",
    "print(\"Test Accuracy based on True Labels: {:.2f}%\".format(test_accuracy))\n"
   ]
  },
  {
   "cell_type": "code",
   "execution_count": 50,
   "id": "4f2cfb4f",
   "metadata": {},
   "outputs": [
    {
     "name": "stdout",
     "output_type": "stream",
     "text": [
      "KL Divergence Score:  0.07891437071695853\n"
     ]
    }
   ],
   "source": [
    "# Show the divergence of Project-3 predictions\n",
    "\n",
    "import numpy as np\n",
    "import pandas as pd\n",
    "\n",
    "# Kullback-Leibler (KL) divergence between the predicted probability and the observed target\n",
    "def KL_div(P, Q):\n",
    "    if len(P) != len(Q):\n",
    "        return 100\n",
    "    else:\n",
    "        p = np.array(P) + 0.000001   # adding an epsilon to avoid log(0) \n",
    "        q = np.array(Q) + 0.000001   # adding an epsilon to avoid log(0)    \n",
    "        KL = np.dot(p, np.log(p) - np.log(q)) / p.sum()\n",
    "    return KL\n",
    "\n",
    "# Read the true eclipse labels for the testing data\n",
    "true_labels_df = pd.read_csv(\"Eclipse_Pred\\True_Eclipse_Test_Label.csv\", index_col=\"Catalog Number\")\n",
    "\n",
    "# Read the predicted eclipse types from Project3_pred.csv\n",
    "predicted_labels_df = pd.read_csv(\"Project3_pred.csv\", index_col=\"Catalog Number\")\n",
    "\n",
    "# Ensure that both DataFrames have the same index\n",
    "true_labels_df.index = true_labels_df.index.astype(str)\n",
    "predicted_labels_df.index = predicted_labels_df.index.astype(str)\n",
    "\n",
    "# Merge the DataFrames on the index (Catalog Number)\n",
    "merged_df = pd.merge(true_labels_df, predicted_labels_df, left_index=True, right_index=True)\n",
    "\n",
    "# Calculate the KL divergence score\n",
    "KL_div_score = KL_div(merged_df[\"Eclipse Type\"], merged_df[\"Pred_Eclipse_Type\"])\n",
    "\n",
    "print(\"KL Divergence Score: \", KL_div_score)\n"
   ]
  },
  {
   "cell_type": "code",
   "execution_count": 51,
   "id": "08309d76",
   "metadata": {},
   "outputs": [
    {
     "name": "stdout",
     "output_type": "stream",
     "text": [
      "KL Divergence Score:  0.33639244728777884\n"
     ]
    }
   ],
   "source": [
    "# Show the divergence of project-3 mapped\n",
    "\n",
    "import numpy as np\n",
    "import pandas as pd\n",
    "\n",
    "# Kullback-Leibler (KL) divergence between the predicted probability and the observed target\n",
    "def KL_div(P, Q):\n",
    "    if len(P) != len(Q):\n",
    "        return 100\n",
    "    else:\n",
    "        p = np.array(P) + 0.000001   # adding an epsilon to avoid log(0) \n",
    "        q = np.array(Q) + 0.000001   # adding an epsilon to avoid log(0)    \n",
    "        KL = np.dot(p, np.log(p) - np.log(q)) / p.sum()\n",
    "    return KL\n",
    "\n",
    "# Read the true eclipse labels for the testing data\n",
    "true_labels_df = pd.read_csv(\"Eclipse_Pred\\True_Mapped_Eclipse_Test_Label.csv\", index_col=\"Catalog Number\")\n",
    "\n",
    "# Read the predicted eclipse types from Project3_pred.csv\n",
    "predicted_labels_df = pd.read_csv(\"Project3_pred.csv\", index_col=\"Catalog Number\")\n",
    "\n",
    "# Ensure that both DataFrames have the same index\n",
    "true_labels_df.index = true_labels_df.index.astype(str)\n",
    "predicted_labels_df.index = predicted_labels_df.index.astype(str)\n",
    "\n",
    "# Merge the DataFrames on the index (Catalog Number)\n",
    "merged_df = pd.merge(true_labels_df, predicted_labels_df, left_index=True, right_index=True)\n",
    "\n",
    "# Calculate the KL divergence score\n",
    "KL_div_score = KL_div(merged_df[\"Eclipse Type\"], merged_df[\"Pred_Eclipse_Type\"])\n",
    "\n",
    "print(\"KL Divergence Score: \", KL_div_score)\n"
   ]
  },
  {
   "cell_type": "code",
   "execution_count": null,
   "id": "8f5d6314",
   "metadata": {},
   "outputs": [],
   "source": [
    "# Adjust the file True_Eclipse_Test_Label.csv to remove Nan Categories\n",
    "\n",
    "import pandas as pd\n",
    "\n",
    "# Read in the Eclipse_Test.csv file\n",
    "eclipse_test_df = pd.read_csv(\"Eclipse_Pred\\Eclipse_Test.csv\")\n",
    "\n",
    "# Drop rows with missing values in the 'Central Duration Seconds' column\n",
    "eclipse_test_df.dropna(subset=['Central Duration Seconds'], inplace=True)\n",
    "\n",
    "# Keep only the 'Catalog Number' and 'Eclipse Type' columns\n",
    "eclipse_test_df = eclipse_test_df[['Catalog Number', 'Eclipse Type']]\n",
    "\n",
    "# Write the modified DataFrame to the True_Eclipse_Test_Label.csv file\n",
    "eclipse_test_df.to_csv(\"Eclipse_Pred\\True_Eclipse_Test_Label.csv\", index=False)\n",
    "\n",
    "# Print the size of the modified file\n",
    "print(\"Size of the file:\", len(eclipse_test_df))"
   ]
  },
  {
   "cell_type": "code",
   "execution_count": 48,
   "id": "d5740b4a",
   "metadata": {},
   "outputs": [
    {
     "name": "stdout",
     "output_type": "stream",
     "text": [
      "Size of the file: 1488\n"
     ]
    }
   ],
   "source": [
    "import pandas as pd\n",
    "\n",
    "# Read in the Eclipse_Test.csv file\n",
    "eclipse_test_df = pd.read_csv(\"Eclipse_Pred\\Eclipse_Test.csv\")\n",
    "\n",
    "# Drop rows with missing values in the 'Central Duration Seconds' column\n",
    "eclipse_test_df.dropna(subset=['Central Duration Seconds'], inplace=True)\n",
    "\n",
    "# Replace Eclipse types based on the specified mappings\n",
    "eclipse_test_df['Eclipse Type'] = eclipse_test_df['Eclipse Type'].replace({\n",
    "    0: 0, 1: 0, 2: 0, 3: 0, 4: 0, 5: 0,     # Map 0-5 to 0\n",
    "    6: 6, 7: 6, 8: 6, 9: 6, 10: 6, 11: 6,   # Map 6-11 to 6\n",
    "    12: 12, 13: 12, 14: 12,                 # Map 12-14 to 12\n",
    "    15: 15, 16: 15, 17: 15, 18: 15          # Map 15-18 to 15\n",
    "})\n",
    "\n",
    "# Keep only the 'Catalog Number' and 'Eclipse Type' columns\n",
    "eclipse_test_df = eclipse_test_df[['Catalog Number', 'Eclipse Type']]\n",
    "\n",
    "# Write the modified DataFrame to the True_Eclipse_Test_Label.csv file\n",
    "eclipse_test_df.to_csv(\"Eclipse_Pred\\True_Mapped_Eclipse_Test_Label.csv\", index=False)\n",
    "\n",
    "# Print the size of the modified file\n",
    "print(\"Size of the file:\", len(eclipse_test_df))"
   ]
  },
  {
   "cell_type": "code",
   "execution_count": null,
   "id": "d2768337",
   "metadata": {},
   "outputs": [],
   "source": []
  }
 ],
 "metadata": {
  "kernelspec": {
   "display_name": "Python 3 (ipykernel)",
   "language": "python",
   "name": "python3"
  },
  "language_info": {
   "codemirror_mode": {
    "name": "ipython",
    "version": 3
   },
   "file_extension": ".py",
   "mimetype": "text/x-python",
   "name": "python",
   "nbconvert_exporter": "python",
   "pygments_lexer": "ipython3",
   "version": "3.11.5"
  }
 },
 "nbformat": 4,
 "nbformat_minor": 5
}
